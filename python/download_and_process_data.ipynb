{
 "cells": [
  {
   "cell_type": "code",
   "execution_count": 1,
   "metadata": {
    "collapsed": false
   },
   "outputs": [],
   "source": [
    "import zipfile\n",
    "import os\n",
    "import glob\n",
    "import csv\n",
    "import urllib\n",
    "import datetime as dt\n",
    "import pandas as pd\n",
    "\n",
    "datafolder = 'C:/Berkeley/W209/Final/data'\n",
    "try:\n",
    "    os.makedirs(datafolder)\n",
    "except:\n",
    "    pass\n",
    "electionsStr = [\n",
    "    'November 8, 2016',\n",
    "    'November 6, 2012',\n",
    "    'November 4, 2008',\n",
    "    'November 2, 2004',\n",
    "    'November 7, 2000',\n",
    "    'November 5, 1996',\n",
    "    'November 3, 1992',\n",
    "    'November 8, 1988',\n",
    "    'November 6, 1984',\n",
    "    'November 4, 1980',\n",
    "    'November 2, 1976'\n",
    "]\n",
    "elections = [dt.datetime.strptime(date,'%B %d, %Y') for date in electionsStr]\n",
    "\n",
    "inflation_rates = {\n",
    "                   '1978': 3.65, \n",
    "                   '1979': 3.28, \n",
    "                   '1980': 2.89, \n",
    "                   '1981': 2.62, \n",
    "                   '1982': 2.47, \n",
    "                   '1983': 2.39, \n",
    "                   '1984': 2.29, \n",
    "                   '1985': 2.21, \n",
    "                   '1986': 2.17, \n",
    "                   '1987': 2.09, \n",
    "                   '1988': 2.01, \n",
    "                   '1989': 1.92, \n",
    "                   '1990': 1.82, \n",
    "                   '1991': 1.75, \n",
    "                   '1992': 1.7, \n",
    "                   '1993': 1.65, \n",
    "                   '1994': 1.61, \n",
    "                   '1995': 1.56, \n",
    "                   '1996': 1.52, \n",
    "                   '1997': 1.48, \n",
    "                   '1998': 1.46, \n",
    "                   '1999': 1.43, \n",
    "                   '2000': 1.38, \n",
    "                   '2001': 1.34, \n",
    "                   '2002': 1.32, \n",
    "                   '2003': 1.29, \n",
    "                   '2004': 1.26, \n",
    "                   '2005': 1.22, \n",
    "                   '2006': 1.18, \n",
    "                   '2007': 1.15, \n",
    "                   '2008': 1.11, \n",
    "                   '2009': 1.11, \n",
    "                   '2010': 1.09, \n",
    "                   '2011': 1.06, \n",
    "                   '2012': 1.04, \n",
    "                   '2013': 1.02, \n",
    "                   '2014': 1.01,\n",
    "                   '2015': 1\n",
    "                  }"
   ]
  },
  {
   "cell_type": "code",
   "execution_count": 18,
   "metadata": {
    "collapsed": true
   },
   "outputs": [],
   "source": [
    "def candType(row):\n",
    "    try:\n",
    "        return row['Candidate Identification Number'][0]\n",
    "    except:\n",
    "        return ''\n",
    "\n",
    "def getMonth(row):\n",
    "    try:\n",
    "        return dt.datetime(row['Transaction Date(MMDDYYYY)'].year,row['Transaction Date(MMDDYYYY)'].month,1)\n",
    "    except:\n",
    "        return ''\n",
    "    \n",
    "def getNextElection(row):\n",
    "    mindiff = dt.timedelta(days=99999)\n",
    "    nextElection = None\n",
    "    transDate = row['Month'] \n",
    "    for date in elections:\n",
    "        if transDate <= date and date - transDate < mindiff:\n",
    "            mindiff = date-transDate\n",
    "            nextElection = date\n",
    "    return nextElection\n",
    "\n",
    "def getAdjTransaction(row):\n",
    "    try:\n",
    "        inflation = inflation_rates[str(row['Transaction Date(MMDDYYYY)'].year)]\n",
    "        return abs(float(row['Transaction Amount'])*inflation)\n",
    "    except Exception as e:\n",
    "        return ''\n",
    "#print getAdjTransaction(dfp[:1])"
   ]
  },
  {
   "cell_type": "code",
   "execution_count": 23,
   "metadata": {
    "collapsed": false
   },
   "outputs": [
    {
     "name": "stdout",
     "output_type": "stream",
     "text": [
      "Done collecting data!\n"
     ]
    }
   ],
   "source": [
    "#libraries = ['ccl','cm','cn','indiv','oppexp','oth','pas2']\n",
    "libraries = ['pas2']\n",
    "years = [str(year) for year in range(2016,1978,-2)]\n",
    "dateparse = lambda x: dt.datetime.strptime(str(x), '%m%d%Y')\n",
    "\n",
    "\n",
    "try:\n",
    "    os.makedirs(os.path.join(datafolder, lib))\n",
    "except:\n",
    "    pass\n",
    "\n",
    "\n",
    "with open(os.path.join(os.getcwd(),'data','FEC','%s_header_file.csv' % lib)) as headers:\n",
    "    header=headers.read().strip().split(',')\n",
    "\n",
    "#header.append('cycle')\n",
    "'''\n",
    "    for year in years:\n",
    "        url = 'ftp://ftp.fec.gov/FEC/%s/' % str(year)\n",
    "        filename = '%s%s.zip' % (lib,str(year)[2:])\n",
    "        outfile = os.path.join(datafolder, lib, filename)\n",
    "\n",
    "\n",
    "        try:\n",
    "            urllib.urlretrieve(url + filename,outfile)\n",
    "        except Exception as e:\n",
    "            print e\n",
    "'''\n",
    "for filename in glob.glob(os.path.join(datafolder,'pas2','*.zip')):\n",
    "    year = os.path.basename(filename).split('.')[0][-2:]\n",
    "\n",
    "    if os.path.isfile(filename) and zipfile.is_zipfile(filename):\n",
    "        #if the url passed to the def exists and is a valid zip file\n",
    "        #added for Linux (was creating an empty file for non-existent url downloads)\n",
    "        z = zipfile.ZipFile(filename)\n",
    "        for f in z.namelist():\n",
    "            if f.find('itpas') > -1:\n",
    "                #get observation info\n",
    "                with z.open(f, 'r') as psvfile:\n",
    "                    df = pd.read_csv(psvfile,sep='|',names=header,dtype=str)\n",
    "                    df['Transaction Date(MMDDYYYY)'] = pd.to_datetime(df['Transaction Date(MMDDYYYY)'],format='%m%d%Y',errors='ignore')\n",
    "        df['CandidateType'] = df.apply(candType,axis=1)\n",
    "        df['Month'] = df.apply(getMonth,axis=1)\n",
    "        df['NextElection'] = df.apply(getNextElection,axis=1)\n",
    "        df['Contribution'] = df.apply(getAdjTransaction,axis=1)\n",
    "        df = df[df['CandidateType']=='P']\n",
    "        df_aggregated = df.groupby(['Month','NextElection'])['Contribution'].aggregate('sum').to_frame()\n",
    "\n",
    "        with open(os.path.join(datafolder,'pas2_%s.csv' % year),'w') as csvfile:\n",
    "            df_aggregated.to_csv(csvfile)\n",
    "print \"Done collecting data!\"\n"
   ]
  },
  {
   "cell_type": "code",
   "execution_count": 25,
   "metadata": {
    "collapsed": false
   },
   "outputs": [],
   "source": [
    "df = pd.DataFrame(columns = ['Month','NextElection','Contribution'])\n",
    "for filename in glob.glob(os.path.join(datafolder,'*.csv')):\n",
    "    with open(filename,'r') as csvfile:\n",
    "        df_tmp = pd.read_csv(csvfile)\n",
    "        df = df.append(df_tmp)\n",
    "df = df.groupby(['Month','NextElection'])['Contribution'].aggregate('sum').to_frame()\n",
    "with open(os.path.join(datafolder,'all_contributions_1978-2015.csv'),'w') as csvfile:\n",
    "    df.to_csv(csvfile) "
   ]
  },
  {
   "cell_type": "code",
   "execution_count": null,
   "metadata": {
    "collapsed": true
   },
   "outputs": [],
   "source": []
  }
 ],
 "metadata": {
  "kernelspec": {
   "display_name": "Python 2",
   "language": "python",
   "name": "python2"
  },
  "language_info": {
   "codemirror_mode": {
    "name": "ipython",
    "version": 2
   },
   "file_extension": ".py",
   "mimetype": "text/x-python",
   "name": "python",
   "nbconvert_exporter": "python",
   "pygments_lexer": "ipython2",
   "version": "2.7.9"
  }
 },
 "nbformat": 4,
 "nbformat_minor": 0
}
