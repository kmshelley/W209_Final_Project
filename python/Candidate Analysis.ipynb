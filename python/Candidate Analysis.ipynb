{
 "cells": [
  {
   "cell_type": "markdown",
   "metadata": {},
   "source": [
    "### Getting accurate monthly series for campaign finance\n",
    "\n",
    "### What's the issue? Why is this so hard?\n",
    "The problem in trying to show accurate monthly campaign finance total fundraising, of the sort used in visualizations like the NYT's [2012 Money Race](http://elections.nytimes.com/2012/campaign-finance) is the simple one that campaigns do not actually report data monthly. This was the [presidential principal campaign committee reporting schedule](http://www.fec.gov/info/report_dates_2012.shtml#monthly) for the 2012 election. You can see that campaigns reported quarterly in 2011, and only began monthly reports in 2012. In addition, because the election is in November, reporting deadlines mean that the final three periods are not quite monthly and all have highly skewed coverage periods which need to be adjusted for as well.\n",
    "\n",
    "### But the FEC has all this itemized data available with transaction dates - why can't we use that?\n",
    "The itemized data is only a small subset of the overal data. So in the 2012 election cycle, for instance, Obama for America raised 738.5 million, of which 315 million came from individal donors that gave more than 200 bucks, and 234 million came from individual donors that gave less than 200 bucks (the rest came from authorized committees and a few other places). But donations less than 200 aren't required to be itemized, so they don't show up in the itemized dataset. In addition, the 315 million number includes donations from those who gave over 200 in total, but in a series of smaller donations. These also don't show up in the FEC's itemized data, so the itemized data only include about 200 mm - a small fraction of the total. If we looked at these, we would think that Romney had massively outraised Obama - but in fact the opposite was true.\n",
    "\n",
    "### So what do we do?\n",
    "\n",
    "The FEC Form 3P data represents the accurate totals, but is a mixture of quarterly and monthly data. The itemized data is only a fraction of the total, but we have dates for every single itemized contribution. So we can use the itemized data as a proxy for the overal time distribution of fundraising, and use the amount that each month represents out of the quarterly totals to prorate the Form 3P data where that data is quarterly.\n",
    "\n",
    "### What data sources do we use\n",
    "Getting the Form 3P data is harder than it would seem - the FEC website lets you download spreadsheets with totals, but it's a highly manual process - no persistent links. Better is to use the new beta FEC API, which makes it very easy to get the Form 3P data.\n",
    "\n",
    "For the itemized data, the API isn't suitable - while the itemized data is available, the endpoints that give aggregates don't give us enough detail or control, while the endpoints that give true itemized data don't at the moment let you filter or agregate to get to a point where the data size is limited - and so as a result there are huge rate limiting problems going down this route. Much better to use the csv files the FEC makes available.\n"
   ]
  },
  {
   "cell_type": "code",
   "execution_count": 1,
   "metadata": {
    "collapsed": false
   },
   "outputs": [
    {
     "name": "stdout",
     "output_type": "stream",
     "text": [
      "Populating the interactive namespace from numpy and matplotlib\n"
     ]
    }
   ],
   "source": [
    "import requests, json, zipfile, StringIO, urllib2, os\n",
    "%pylab inline\n",
    "pylab.rcParams['figure.figsize'] = (10, 6)\n",
    "\n",
    "import matplotlib.pyplot as plt\n",
    "import matplotlib\n",
    "matplotlib.style.use('ggplot')\n",
    "import numpy as np\n",
    "\n",
    "import pandas as pd\n",
    "import dateutil.parser\n",
    "\n",
    "from ipywidgets import widgets\n",
    "from IPython.display import display, clear_output\n",
    "\n",
    "pd.set_option('display.max_rows', 500)\n",
    "pd.set_option('display.max_columns', 500)\n",
    "pd.set_option('display.float_format', lambda x: '%.2f' % x)"
   ]
  },
  {
   "cell_type": "markdown",
   "metadata": {},
   "source": [
    "### Setting up to get Form 3P data through the FEC Beta API\n",
    "While there is a [python wrapper](https://github.com/jeremyjbowers/pyopenfec) available, it isn't well maintained, and breaking changes to the API have already caused problems. Since what we want is super simple to get, much better to just use requests and hit the REST API endpoints directly. The functions below are set up to do that.\n",
    "\n",
    "Anyone who wants to get an excel spreadsheet to look at for comparison can go to http://www.fec.gov/data/CommitteeSummary.do?format=html&election_yr=2012 and enter in a campaign code and click through and eventually get one."
   ]
  },
  {
   "cell_type": "code",
   "execution_count": 2,
   "metadata": {
    "collapsed": true
   },
   "outputs": [],
   "source": [
    "BASE_URL = 'https://api.open.fec.gov/v1'\n",
    "envVars = %env\n",
    "API_KEY = envVars['OPENFEC_API_KEY']"
   ]
  },
  {
   "cell_type": "code",
   "execution_count": 3,
   "metadata": {
    "collapsed": true
   },
   "outputs": [],
   "source": [
    "def all_results(endpoint, params):\n",
    "    params['api_key'] = API_KEY\n",
    "    url = BASE_URL+endpoint\n",
    "    r = requests.get(url, params=params)\n",
    "    initial_data = r.json()\n",
    "    num_pages = initial_data['pagination']['pages']\n",
    "    num_records = initial_data['pagination']['count']\n",
    "    current_page = initial_data['pagination']['page']\n",
    "    for record in initial_data['results']:\n",
    "        yield record\n",
    "\n",
    "    while current_page < num_pages:\n",
    "        current_page += 1\n",
    "        params['page']=current_page\n",
    "        data = requests.get(url, params=params).json()\n",
    "        for record in data['results']:\n",
    "            yield record\n",
    "\n",
    "def count_results(endpoint, params):\n",
    "    params['api_key'] = API_KEY\n",
    "    url = BASE_URL+endpoint\n",
    "    data = requests.get(url, params=params).json()\n",
    "    return data['pagination']['count']"
   ]
  },
  {
   "cell_type": "code",
   "execution_count": 8,
   "metadata": {
    "collapsed": false
   },
   "outputs": [],
   "source": [
    "with open('../W209 Viz Drafts/data/candidates.json', 'r') as f:\n",
    "    candidate_data = json.load(f)\n",
    "candidate_data = { year: candidate_data[year] for year in candidate_data.keys() if int(year) >= 2012 }"
   ]
  },
  {
   "cell_type": "code",
   "execution_count": 9,
   "metadata": {
    "collapsed": true
   },
   "outputs": [],
   "source": [
    "def form3totals(committee_id, cycle):\n",
    "    q = {\n",
    "        'cycle':cycle,\n",
    "        'per_page':100,\n",
    "        'is_amended':False,\n",
    "    }\n",
    "    data = []\n",
    "    for r in all_results('/committee/'+committee_id+'/reports/', q):\n",
    "        data.append({\n",
    "                'Report Year': r[\"report_year\"],\n",
    "                'Report Type': r[\"report_type\"],\n",
    "                'Report Period': str(r[\"report_year\"])+'-'+r[\"report_type\"],\n",
    "                'Coverage Start Date': dateutil.parser.parse(r[\"coverage_start_date\"]).date(),\n",
    "                'Coverage End Date': dateutil.parser.parse(r[\"coverage_end_date\"]).date(),\n",
    "                'Itemized Individual Contributions': r[\"individual_itemized_contributions_period\"],\n",
    "                'Unitemized Individual Contributions': r[\"individual_unitemized_contributions_period\"],\n",
    "                'Total Individual Contributions': r[\"total_individual_contributions_period\"],\n",
    "                'Party Committees Contributions': r[\"political_party_committee_contributions_period\"],\n",
    "                'Other Committees Contributions': r[\"other_political_committee_contributions_period\"],\n",
    "                'Candidate Contributions': r[\"candidate_contribution_period\"],\n",
    "                'TOTAL CONTRIBUTIONS': r[\"total_contributions_period\"],\n",
    "                'Transfers from Affilliated Committees': r[\"transfers_from_affiliated_committee_period\"],\n",
    "                'Loans': r[\"total_loans_received_period\"],\n",
    "                'Offsets': r[\"total_offsets_to_operating_expenditures_period\"],\n",
    "                'Total Receipts': r[\"total_receipts_period\"],\n",
    "                'Operating Expenditures': r[\"operating_expenditures_period\"],\n",
    "                'TOTAL DISBURSEMENTS': r[\"total_disbursements_period\"],\n",
    "                'Beginning Cash On Hand': r[\"cash_on_hand_beginning_period\"],\n",
    "                'Ending Cash On Hand': r[\"cash_on_hand_end_period\"],\n",
    "            })\n",
    "    columns = [\n",
    "        'Report Period','Report Year','Report Type','Coverage Start Date','Coverage End Date','Itemized Individual Contributions',\n",
    "        'Unitemized Individual Contributions','Total Individual Contributions','Party Committees Contributions',\n",
    "        'Other Committees Contributions','Candidate Contributions','TOTAL CONTRIBUTIONS',\n",
    "        'Transfers from Affilliated Committees','Loans','Offsets','Total Receipts',\n",
    "        'Beginning Cash On Hand','Ending Cash On Hand']\n",
    "    df = pd.DataFrame(data, columns=columns)\n",
    "\n",
    "    \n",
    "    df.set_index('Report Period', inplace=True)\n",
    "    return df.sort('Coverage Start Date')"
   ]
  },
  {
   "cell_type": "markdown",
   "metadata": {},
   "source": [
    "### Getting the itemized data in bulk in csv form from the FEC website\n",
    "The below gets all of the available itemized data from the FEC - just uncomment the function call to run for a specified year."
   ]
  },
  {
   "cell_type": "code",
   "execution_count": 10,
   "metadata": {
    "collapsed": false
   },
   "outputs": [
    {
     "name": "stdout",
     "output_type": "stream",
     "text": [
      "downloading data for 2012\n",
      " skipping 2012_cm.csv.\n",
      " skipping 2012_ccl.csv.\n",
      " skipping 2012_oppexp.csv.\n",
      " skipping 2012_indiv.csv.\n",
      " skipping 2012_cn.csv.\n",
      " skipping 2012_pas2.csv.\n",
      " skipping 2012_oth.csv.\n",
      "downloading data for 2016\n",
      " skipping 2016_cm.csv.\n",
      " skipping 2016_ccl.csv.\n",
      " skipping 2016_oppexp.csv.\n",
      " skipping 2016_indiv.csv.\n",
      " skipping 2016_cn.csv.\n",
      " skipping 2016_pas2.csv.\n",
      " skipping 2016_oth.csv.\n"
     ]
    }
   ],
   "source": [
    "# To download all schedule detail csv files for a particular year\n",
    "\n",
    "schedule_dict = {'Committees': {'abbrev':'cm', 'filename':'cm'},\n",
    "            'Candidates': {'abbrev':'cn', 'filename':'cn'},\n",
    "            'Candidate Committee Linkage': {'abbrev':'ccl', 'filename':'ccl'},\n",
    "            'Committee to Committee Trans': {'abbrev':'oth', 'filename':'itoth'},\n",
    "            'Contributions by Committees': {'abbrev':'pas2', 'filename':'itpas2'},\n",
    "            'Contributions by Individuals': {'abbrev':'indiv', 'filename':'itcont'},\n",
    "            'Operating Expenditures': {'abbrev':'oppexp', 'filename':'oppexp'}\n",
    "             }\n",
    "header_url_base = 'http://www.fec.gov/finance/disclosure/metadata/%s_header_file.csv'\n",
    "data_url_base = 'ftp://ftp.fec.gov/FEC/20%d/%s%d.zip'\n",
    "\n",
    "\n",
    "def get_schedule_data(year, schedule_dict):\n",
    "    yearlasttwo = int(str(year)[2:])\n",
    "    for f in schedule_dict.values():\n",
    "        pathname = '%s_%s.csv' % (year, f['abbrev'])\n",
    "        if not (os.path.isfile(pathname) and os.path.getsize(pathname) > 0):\n",
    "            print \" downloading %s...\" % pathname,\n",
    "            r = requests.get(header_url_base % f['abbrev'])\n",
    "            f['headers'] = r.content.strip().split(',')\n",
    "            d = urllib2.urlopen(data_url_base % (yearlasttwo, f['abbrev'], yearlasttwo))\n",
    "            z = zipfile.ZipFile(StringIO.StringIO(d.read()))\n",
    "            data = pd.read_csv(z.open('%s.txt' % f['filename']), sep='|', header=None, names=f['headers'], index_col=False,\n",
    "                        low_memory=False)\n",
    "            data.to_csv(pathname)\n",
    "            print \"done.\"\n",
    "        else:\n",
    "            print \" skipping %s.\" % pathname\n",
    "\n",
    "for cycle in sorted(candidate_data.keys()):\n",
    "    print \"downloading data for\", cycle\n",
    "    get_schedule_data(cycle, schedule_dict)\n"
   ]
  },
  {
   "cell_type": "markdown",
   "metadata": {},
   "source": [
    "### Processing the Individual Contributions data\n",
    "This just dumps the small number of cases where we don't have any dates for contributions, and then adds month year and quarter indices to make later manipulation easy, before saving the csv file back down."
   ]
  },
  {
   "cell_type": "code",
   "execution_count": 19,
   "metadata": {
    "collapsed": false
   },
   "outputs": [
    {
     "name": "stdout",
     "output_type": "stream",
     "text": [
      " processing 2012_indiv.csv into 2012_indiv_p1.csv... done.\n",
      " processing 2016_indiv.csv into 2016_indiv_p1.csv... done.\n"
     ]
    }
   ],
   "source": [
    "# Process the individual contributions csv\n",
    "def process_indiv(year):\n",
    "    pathname_in = '%s_indiv.csv' % year\n",
    "    pathname_out = '%s_indiv_p1.csv' % year\n",
    "    if os.path.isfile(pathname_in) and os.path.getsize(pathname_in) > 0:\n",
    "        if not (os.path.isfile(pathname_out) and os.path.getsize(pathname_out) > 0):\n",
    "            print \" processing %s into %s...\" % (pathname_in, pathname_out),\n",
    "            indiv = pd.read_csv(pathname_in, low_memory=False)\n",
    "            indiv = indiv[indiv['TRANSACTION_DT'].notnull()].copy()  # if there isn't a date, no use to us\n",
    "            indiv['TRANSACTION_DT'] = indiv['TRANSACTION_DT'].astype(int).map(\"{:0>8d}\".format)\n",
    "            indiv['DATE'] = pd.to_datetime(indiv['TRANSACTION_DT'],format='%m%d%Y')\n",
    "            indiv['MONTH'] = pd.DatetimeIndex(indiv['DATE']).month\n",
    "            indiv['YEAR'] = pd.DatetimeIndex(indiv['DATE']).year\n",
    "            indiv['QUARTER'] = pd.DatetimeIndex(indiv['DATE']).quarter\n",
    "            indiv.to_csv(pathname_out)\n",
    "            print \"done.\"\n",
    "        else:\n",
    "            print \"skipping %s.\" % pathname_out\n",
    "    else:\n",
    "        print 'ERROR: %s not found' % pathname_in\n",
    "\n",
    "for cycle in sorted(candidate_data):\n",
    "    process_indiv(cycle)"
   ]
  },
  {
   "cell_type": "markdown",
   "metadata": {},
   "source": [
    "### Load the individual contribution data into memory\n",
    "That makes it much faster to work with from that point on"
   ]
  },
  {
   "cell_type": "code",
   "execution_count": 20,
   "metadata": {
    "collapsed": false
   },
   "outputs": [
    {
     "name": "stdout",
     "output_type": "stream",
     "text": [
      "reading processed indiv for 2012\n",
      "reading processed indiv for 2016\n"
     ]
    }
   ],
   "source": [
    "indivs = pd.DataFrame()\n",
    "for cycle in sorted(candidate_data.keys()):\n",
    "    print \"reading processed indiv for\", cycle\n",
    "    indivs = indivs.append(pd.read_csv(cycle +'_indiv_p1.csv', low_memory=False))"
   ]
  },
  {
   "cell_type": "markdown",
   "metadata": {},
   "source": [
    "### Creating monthly pro-rating coefficients from the individual contribution data\n",
    "The below function returns a series of coefficients, indexed by year, quarter and month, to be used in prorating quarterly data to monthly. At the moment it is set up to work with the itemized individual contribution data; we probably need to generalize it so it can also work on the spending side to work with the itemized spending data.\n",
    "\n",
    "The f3Monthly function then takes a form F3 period series, and a monthly pro-rating coefficient series as inputs, applies the pro-rating methodology, and returns a monthly series as output."
   ]
  },
  {
   "cell_type": "code",
   "execution_count": 24,
   "metadata": {
    "collapsed": true
   },
   "outputs": [],
   "source": [
    "def monthly_coeffs(committee_id, indivs):\n",
    "    indiv = indivs[indivs['CMTE_ID']==committee_id].copy()\n",
    "    i = indiv.groupby(by=['YEAR', 'QUARTER', 'MONTH']).sum()['TRANSACTION_AMT']\n",
    "    monthly = pd.DataFrame({\n",
    "        'Monthly Contributions': i,\n",
    "        'Monthly Totals': i.groupby(level=['YEAR', 'QUARTER']).transform(sum)\n",
    "    })\n",
    "    monthly['Pro Rating Coeffs'] = monthly['Monthly Contributions']/monthly['Monthly Totals']\n",
    "\n",
    "    return monthly['Pro Rating Coeffs']"
   ]
  },
  {
   "cell_type": "code",
   "execution_count": 68,
   "metadata": {
    "collapsed": true
   },
   "outputs": [],
   "source": [
    "def f3Monthly(f3,coeffs,cycle):\n",
    "    \n",
    "    def f3_extract(label, default=0):\n",
    "        return f3.loc[label] if label in f3.index else default\n",
    "    \n",
    "    years = coeffs.index.levels[0]\n",
    "    quarters = coeffs.index.levels[1]\n",
    "    months = coeffs.index.levels[2]\n",
    "    monthly_data = coeffs.copy()\n",
    "    \n",
    "    monthly_data.name = 'Monthly Data'\n",
    "    yq = ''\n",
    "    for y in years:\n",
    "        if y != cycle:\n",
    "            # The year before the election, all data is quarterly, so we need to use our\n",
    "            # Coefficients from the itemized data to prorate across the months\n",
    "            for q in quarters:\n",
    "                if q < 4:\n",
    "                    yq = str(y)+'-Q'+str(q)  # First three quarters of F3 data follow this pattern\n",
    "                else:\n",
    "                    yq = str(y)+'-YE'  # Last quarter is Year End, just to keep you on your toes\n",
    "                monthly_data[y][q] = f3_extract(yq) * coeffs[y][q]\n",
    "        else:\n",
    "            for m in months:\n",
    "                # The first 3 quarters of the election year we have monthly data for\n",
    "                q = ((m-1)/3)+1  # Convert month to quarter\n",
    "                if m < 10:\n",
    "                    monthly_data[y][q][m] = f3_extract(str(y)+'-M'+str(m+1))\n",
    "                else:\n",
    "                    # Because October/November filing are split by random pre/post election filing deadlie\n",
    "                    # We need to agregate them to the quarter level and then use the itemized to prorate\n",
    "                    final_quarter = (f3_extract(str(y)+'-12G') +\n",
    "                                     f3_extract(str(y)+'-30G') +\n",
    "                                     f3_extract(str(y)+'-YE'))\n",
    "                    monthly_data[y][q] = final_quarter * coeffs[y][q]\n",
    "                    \n",
    "    return monthly_data"
   ]
  },
  {
   "cell_type": "markdown",
   "metadata": {},
   "source": [
    "## Bringing it all together interactively, so we can look at different candidates\n",
    "At the moment, this works for major candidates who have FEC reported data for all periods, but not for those who don't - if you try selecting someone other than Obama or Romney, you will get a traceback. Clearly there is further work to do in generalizing the functions above to make sure they work for everyone. That sort of testing is the reason I decided to put in the interactive dropdowns - so we can test things easily and make sure the data works, before we have a working front end done."
   ]
  },
  {
   "cell_type": "code",
   "execution_count": 69,
   "metadata": {
    "collapsed": false
   },
   "outputs": [],
   "source": [
    "def select_candidate(candidate):\n",
    "    global f3\n",
    "    global coeffs\n",
    "    cycle = cycleOptions.value\n",
    "    party = partyOptions.value\n",
    "    candidate_dict = [c for c in candidate_data[cycle][party] if c['short_name'] == candidate][0]\n",
    "    candidate_id = candidate_dict['candidate_ids'][0] if len(candidate_dict['candidate_ids']) > 0 else '<NA>'\n",
    "    committee_id = candidate_dict['committees'][0]['committee_id']\n",
    "    cand_id.value = \"<strong>Candidate ID: </strong>%s<br><strong>Committee ID: </strong>%s\"%(candidate_id, committee_id)\n",
    "    f3 = form3totals(committee_id, cycle)\n",
    "\n",
    "    coeffs = monthly_coeffs(committee_id, indivs)\n",
    "    monthly = f3Monthly(f3['Total Receipts'], coeffs, int(cycle))\n",
    "    \n",
    "    ax=monthly.plot(kind='bar')\n",
    "    ax.yaxis.set_major_formatter(\n",
    "        matplotlib.ticker.FuncFormatter(lambda x, p: format(int(x), ','))\n",
    "    )\n",
    "    plt.draw()\n",
    "\n",
    "def select_party(party):\n",
    "    candidateOptions.options = [candidate['short_name'] for candidate in candidate_data[cycleOptions.value][party]]\n",
    "\n",
    "def select_cycle(cycle):\n",
    "    partyOptions.options = candidate_data[cycleOptions.value].keys()"
   ]
  },
  {
   "cell_type": "code",
   "execution_count": 70,
   "metadata": {
    "collapsed": false
   },
   "outputs": [
    {
     "name": "stderr",
     "output_type": "stream",
     "text": [
      "/Users/tkunicki/.virtualenvs/w209/lib/python2.7/site-packages/ipykernel/__main__.py:41: FutureWarning: sort(columns=....) is deprecated, use sort_values(by=.....)\n"
     ]
    },
    {
     "data": {
      "image/png": "[encoded data removed]",
      "text/plain": [
       "<matplotlib.figure.Figure at 0x105358210>"
      ]
     },
     "metadata": {},
     "output_type": "display_data"
    }
   ],
   "source": [
    "cycleOptions = widgets.Dropdown(options=candidate_data.keys())\n",
    "initCycle = cycleOptions.value    \n",
    "\n",
    "partyOptions = widgets.Dropdown(options=candidate_data[initCycle].keys())\n",
    "initParty = partyOptions.value\n",
    "\n",
    "candidateOptions = widgets.Dropdown(options=[candidate['short_name'] for candidate in candidate_data[cycleOptions.value][initParty]])\n",
    "\n",
    "c = widgets.interactive(select_candidate, candidate=candidateOptions)\n",
    "p = widgets.interactive(select_party, party=partyOptions)\n",
    "y = widgets.interactive(select_cycle, cycle=cycleOptions)\n",
    "\n",
    "cand_id = widgets.HTML()\n",
    "\n",
    "display(y)\n",
    "display(p)\n",
    "display(c)\n",
    "display(cand_id)"
   ]
  },
  {
   "cell_type": "markdown",
   "metadata": {},
   "source": [
    "## What's next when it comes to data getting and cleaning?\n",
    "OK - having got this far, there's a whole bunch more stuff to do:\n",
    "* Make the above work for all candidates\n",
    "* Specify Super-PACs directly associated with individual candidates (probably in candidates.json) and make sure we are pulling data for all of those\n",
    "* Think about how we handle DNC/RNC - if we were just looking at presidential and not primary candidates, that would be easy because we could just add them to the candidates like the NYT's [2012 Money Race](http://elections.nytimes.com/2012/campaign-finance) does. Maybe we can still do that, and just not include them for 2015 because not relevant yet??\n",
    "* Get the above working for all candidates, and for directly affiliated SuperPACs and DNC/RNC\n",
    "* Where a candidate has more than one committe (ie Michelle Bachman), make sure we can handle that\n",
    "\n",
    "Expanding beyond just candidate campaign committees and directly associated SuperPACs and DNC/RNC, the next step is to look at the independent expenditure data (probably easiest to use pas2.csv from the itemized data csvs) and get the list of top spenders for and against each candidate, probably using [this dictionary of transaction type codes](http://www.fec.gov/finance/disclosure/metadata/DataDictionaryTransactionTypeCodes.shtml). Could just list them and show/graph amonts, or we could try to create a sort of [network visualization of SuperPAC contributions](http://www.brightpointinc.com/political_influence/)\n",
    "\n",
    "Then we also need to look at further use we want to make of the itemized data - there is a lot of stuff we can do with it (well suited to small multiples in particular). If we are going to be doing timeseries stuff, we want to use the itemized csv files. But if we are going to do total aggregate stuff, the FEC beta API provides really nice easy API endpoints for that that give us exactly the data we need.\n",
    "\n",
    "Then we may need to bring this all together in a nice REST API, unless we decide that we can dump everything we actually need to csv..."
   ]
  },
  {
   "cell_type": "code",
   "execution_count": null,
   "metadata": {
    "collapsed": true
   },
   "outputs": [],
   "source": [
    "!head candidates.json"
   ]
  },
  {
   "cell_type": "code",
   "execution_count": null,
   "metadata": {
    "collapsed": true
   },
   "outputs": [],
   "source": [
    "ls"
   ]
  },
  {
   "cell_type": "code",
   "execution_count": null,
   "metadata": {
    "collapsed": false
   },
   "outputs": [],
   "source": []
  },
  {
   "cell_type": "code",
   "execution_count": null,
   "metadata": {
    "collapsed": false
   },
   "outputs": [],
   "source": []
  },
  {
   "cell_type": "code",
   "execution_count": null,
   "metadata": {
    "collapsed": false
   },
   "outputs": [],
   "source": []
  }
 ],
 "metadata": {
  "kernelspec": {
   "display_name": "Python 2",
   "language": "python",
   "name": "python2"
  },
  "language_info": {
   "codemirror_mode": {
    "name": "ipython",
    "version": 2
   },
   "file_extension": ".py",
   "mimetype": "text/x-python",
   "name": "python",
   "nbconvert_exporter": "python",
   "pygments_lexer": "ipython2",
   "version": "2.7.10"
  }
 },
 "nbformat": 4,
 "nbformat_minor": 0
}
